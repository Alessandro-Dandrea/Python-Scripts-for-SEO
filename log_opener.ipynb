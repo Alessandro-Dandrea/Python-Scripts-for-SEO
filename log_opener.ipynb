{
  "nbformat": 4,
  "nbformat_minor": 0,
  "metadata": {
    "colab": {
      "name": "log_opener.ipynb",
      "provenance": [],
      "authorship_tag": "ABX9TyPK7+0CZ+hBRAOfkGL8oDEb",
      "include_colab_link": true
    },
    "kernelspec": {
      "name": "python3",
      "display_name": "Python 3"
    },
    "language_info": {
      "name": "python"
    }
  },
  "cells": [
    {
      "cell_type": "markdown",
      "metadata": {
        "id": "view-in-github",
        "colab_type": "text"
      },
      "source": [
        "<a href=\"https://colab.research.google.com/github/Alessandro-Dandrea/Python-Scripts-for-SEO/blob/main/log_opener.ipynb\" target=\"_parent\"><img src=\"https://colab.research.google.com/assets/colab-badge.svg\" alt=\"Open In Colab\"/></a>"
      ]
    },
    {
      "cell_type": "markdown",
      "source": [
        "# Log File Opener\n",
        "Base guideline from SEJ: https://www.searchenginejournal.com/python-analysis-server-log-files/412898/"
      ],
      "metadata": {
        "id": "aNjaHy7BLRsy"
      }
    },
    {
      "cell_type": "code",
      "execution_count": 3,
      "metadata": {
        "id": "GDb2j3wg_t69"
      },
      "outputs": [],
      "source": [
        "import pandas as pd\n",
        "import re\n",
        "import glob"
      ]
    },
    {
      "cell_type": "code",
      "source": [
        "#Let's define a variable to match only GBot in logs.\n",
        "bot = 'Googlebot|bingbot'"
      ],
      "metadata": {
        "id": "LOdia8-WAL9s"
      },
      "execution_count": null,
      "outputs": []
    },
    {
      "cell_type": "code",
      "source": [
        "#Open log files and match only Gbot and bingbot.\n",
        "log = glob.glob('*.log')\n",
        "\n",
        "new_file = open('log_googlebot.csv',w,)\n",
        "\n",
        "for single_log in log:\n",
        " with open(single_log, 'r') as file:\n",
        "  for line in file:\n",
        "   if re.search(bot, line):\n",
        "    new_file.write(line)"
      ],
      "metadata": {
        "id": "2IBRHrQPAME_"
      },
      "execution_count": null,
      "outputs": []
    }
  ]
}